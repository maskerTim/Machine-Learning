{
 "cells": [
  {
   "cell_type": "code",
   "execution_count": 72,
   "metadata": {},
   "outputs": [
    {
     "name": "stdout",
     "output_type": "stream",
     "text": [
      "g1: [0.398, 0.39, 0.395, 0.244, 0.34]\n",
      "g2: [0.295, 0.261, 0.34, 0.383, 0.395]\n"
     ]
    }
   ],
   "source": [
    "import numpy as np\n",
    "import math\n",
    "\n",
    "def gaussianNorm(data, mu, sigma):\n",
    "    return [1/math.sqrt(2*math.pi*(sigma**2))*math.e**(-((x-mu)/2*sigma)**2) for x in data] \n",
    "\n",
    "# training data\n",
    "data = [0.9, 0.7, 1.2, 2.4, 1.8]\n",
    "# Guassian Parameter\n",
    "mu_1 = 1\n",
    "mu_2 = 2\n",
    "sigma_1 = sigma_2 = 1\n",
    "alpha = [0.5, 0.5]\n",
    "\n",
    "# cal probability\n",
    "g1 = gaussianNorm(data, mu_1, sigma_1)\n",
    "#g1 = [round(num,3) for num in g1]\n",
    "print('g1:',[round(num,3) for num in g1])\n",
    "g2 = gaussianNorm(data, mu_2, sigma_2)\n",
    "#g2 = [round(num,3) for num in g2]\n",
    "print('g2:',[round(num,3) for num in g2])"
   ]
  },
  {
   "cell_type": "code",
   "execution_count": 73,
   "metadata": {},
   "outputs": [
    {
     "name": "stdout",
     "output_type": "stream",
     "text": [
      "beta 1: [0.574, 0.599, 0.537, 0.389, 0.463]\n",
      "beta 2: [0.426, 0.401, 0.463, 0.611, 0.537]\n"
     ]
    }
   ],
   "source": [
    "def betaCal(alpha, idx, *gau):\n",
    "    g_matrix = np.reshape(alpha,(2,1))*np.vstack([g1,g2])\n",
    "    return g_matrix[idx]/np.sum(g_matrix,axis=0)\n",
    "    \n",
    "# cal beta_1 and beta_2\n",
    "beta_1 = betaCal(alpha, 0, g1, g2)\n",
    "print('beta 1:',[round(num,3) for num in beta_1])\n",
    "beta_2 = betaCal(alpha, 1, g1, g2)\n",
    "print('beta 2:',[round(num,3) for num in beta_2])"
   ]
  },
  {
   "cell_type": "code",
   "execution_count": 92,
   "metadata": {},
   "outputs": [
    {
     "name": "stdout",
     "output_type": "stream",
     "text": [
      "new mu1, new sigma1: 1.3065753725700628 0.3510142879511143\n",
      "new mu2, new sigma2: 1.4982149218892322 0.408060269961259\n",
      "new alpha 1: 0.5124981885949778\n",
      "new alpha 2: 0.48750181140502213\n"
     ]
    }
   ],
   "source": [
    "# M-Step\n",
    "def new_parameter(beta, data):\n",
    "    new_mu = np.dot(beta,data)/np.sum(beta)\n",
    "    new_sigma = np.dot(beta,(np.array(data)-new_mu)**2)/np.sum(beta)\n",
    "    return new_mu,new_sigma\n",
    "\n",
    "# cal new mu1,mu2,sigma1,sigma2\n",
    "new_mu1, new_sigma1 = new_parameter(beta_1, data)\n",
    "print('new mu1, new sigma1:', new_mu1, new_sigma1)\n",
    "new_mu2, new_sigma2 = new_parameter(beta_2, data)\n",
    "print('new mu2, new sigma2:', new_mu2, new_sigma2)\n",
    "\n",
    "# E-Step\n",
    "def new_probability(beta):\n",
    "    return np.sum(beta)/len(beta)\n",
    "\n",
    "new_alpha1 = new_probability(beta_1)\n",
    "print('new alpha 1:',new_alpha1)\n",
    "new_alpha2 = new_probability(beta_2)\n",
    "print('new alpha 2:',new_alpha2)"
   ]
  }
 ],
 "metadata": {
  "kernelspec": {
   "display_name": "Python 3",
   "language": "python",
   "name": "python3"
  },
  "language_info": {
   "codemirror_mode": {
    "name": "ipython",
    "version": 3
   },
   "file_extension": ".py",
   "mimetype": "text/x-python",
   "name": "python",
   "nbconvert_exporter": "python",
   "pygments_lexer": "ipython3",
   "version": "3.8.5"
  }
 },
 "nbformat": 4,
 "nbformat_minor": 4
}

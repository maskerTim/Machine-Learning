{
 "cells": [
  {
   "cell_type": "code",
   "execution_count": 1,
   "metadata": {},
   "outputs": [
    {
     "data": {
      "text/html": [
       "<div>\n",
       "<style scoped>\n",
       "    .dataframe tbody tr th:only-of-type {\n",
       "        vertical-align: middle;\n",
       "    }\n",
       "\n",
       "    .dataframe tbody tr th {\n",
       "        vertical-align: top;\n",
       "    }\n",
       "\n",
       "    .dataframe thead th {\n",
       "        text-align: right;\n",
       "    }\n",
       "</style>\n",
       "<table border=\"1\" class=\"dataframe\">\n",
       "  <thead>\n",
       "    <tr style=\"text-align: right;\">\n",
       "      <th></th>\n",
       "      <th>Outlook</th>\n",
       "      <th>Temperature</th>\n",
       "      <th>Humidity</th>\n",
       "      <th>Windy</th>\n",
       "      <th>Decision</th>\n",
       "    </tr>\n",
       "  </thead>\n",
       "  <tbody>\n",
       "    <tr>\n",
       "      <th>0</th>\n",
       "      <td>Sunny</td>\n",
       "      <td>Hi</td>\n",
       "      <td>Hi</td>\n",
       "      <td>No</td>\n",
       "      <td>NP</td>\n",
       "    </tr>\n",
       "    <tr>\n",
       "      <th>1</th>\n",
       "      <td>Sunny</td>\n",
       "      <td>Hi</td>\n",
       "      <td>Hi</td>\n",
       "      <td>Yes</td>\n",
       "      <td>NP</td>\n",
       "    </tr>\n",
       "    <tr>\n",
       "      <th>2</th>\n",
       "      <td>Overcast</td>\n",
       "      <td>Hi</td>\n",
       "      <td>Lo</td>\n",
       "      <td>No</td>\n",
       "      <td>P</td>\n",
       "    </tr>\n",
       "    <tr>\n",
       "      <th>3</th>\n",
       "      <td>Overcast</td>\n",
       "      <td>Lo</td>\n",
       "      <td>Lo</td>\n",
       "      <td>Yes</td>\n",
       "      <td>P</td>\n",
       "    </tr>\n",
       "    <tr>\n",
       "      <th>4</th>\n",
       "      <td>Rain</td>\n",
       "      <td>Lo</td>\n",
       "      <td>Hi</td>\n",
       "      <td>No</td>\n",
       "      <td>P</td>\n",
       "    </tr>\n",
       "    <tr>\n",
       "      <th>5</th>\n",
       "      <td>Rain</td>\n",
       "      <td>Lo</td>\n",
       "      <td>Hi</td>\n",
       "      <td>Yes</td>\n",
       "      <td>NP</td>\n",
       "    </tr>\n",
       "  </tbody>\n",
       "</table>\n",
       "</div>"
      ],
      "text/plain": [
       "    Outlook Temperature Humidity Windy Decision\n",
       "0     Sunny          Hi       Hi    No       NP\n",
       "1     Sunny          Hi       Hi   Yes       NP\n",
       "2  Overcast          Hi       Lo    No        P\n",
       "3  Overcast          Lo       Lo   Yes        P\n",
       "4      Rain          Lo       Hi    No        P\n",
       "5      Rain          Lo       Hi   Yes       NP"
      ]
     },
     "execution_count": 1,
     "metadata": {},
     "output_type": "execute_result"
    }
   ],
   "source": [
    "import pandas as pd\n",
    "\n",
    "'''\n",
    "create a example dataset\n",
    "''' \n",
    "# four features and a class that is two categories\n",
    "outlook = ['Sunny','Sunny','Overcast','Overcast','Rain','Rain']\n",
    "temp = ['Hi','Hi','Hi','Lo','Lo','Lo']\n",
    "humid = ['Hi','Hi','Lo','Lo','Hi','Hi']\n",
    "wind = ['No','Yes','No','Yes','No','Yes']\n",
    "decision = ['NP','NP','P','P','P','NP']\n",
    "\n",
    "# show table about dataset\n",
    "table = {'Outlook':outlook,'Temperature':temp,'Humidity':humid,'Windy':wind,'Decision':decision}\n",
    "df = pd.DataFrame(data=table)\n",
    "df"
   ]
  },
  {
   "cell_type": "code",
   "execution_count": 2,
   "metadata": {},
   "outputs": [
    {
     "name": "stdout",
     "output_type": "stream",
     "text": [
      "outlook: [-1, -1, 0, 0, 1, 1]\n",
      "temp: [0 0 0 1 1 1]\n",
      "humid: [0 0 1 1 0 0]\n",
      "wind: [0 1 0 1 0 1]\n",
      "decision: [0 0 1 1 1 0]\n"
     ]
    }
   ],
   "source": [
    "'''\n",
    "preprocess the datasets\n",
    "'''\n",
    "from sklearn import preprocessing\n",
    "\n",
    "# create labelEncoder\n",
    "le = preprocessing.LabelEncoder()\n",
    "# converting string labels into numbers\n",
    "outlook_encoded= le.fit_transform(outlook)\n",
    "outlook_encoded= [-1 if ele==2 else ele for ele in outlook_encoded]\n",
    "temp_encoded= le.fit_transform(temp)\n",
    "humid_encoded= le.fit_transform(humid)\n",
    "wind_encoded= le.fit_transform(wind)\n",
    "label_encoded= le.fit_transform(decision)\n",
    "print('outlook:',outlook_encoded) # sunny:2 overcast:0 rain:1\n",
    "print('temp:',temp_encoded) # high:0 low:1\n",
    "print('humid:',humid_encoded) # high:0 low:1\n",
    "print('wind:',wind_encoded) # no:0 yes:1\n",
    "print('decision:',label_encoded) # no play:0 play:1"
   ]
  },
  {
   "cell_type": "code",
   "execution_count": 3,
   "metadata": {
    "scrolled": true
   },
   "outputs": [
    {
     "name": "stdout",
     "output_type": "stream",
     "text": [
      "features: [[-1  0  0  0]\n",
      " [-1  0  0  1]\n",
      " [ 0  0  1  0]\n",
      " [ 0  1  1  1]\n",
      " [ 1  1  0  0]\n",
      " [ 1  1  0  1]]\n"
     ]
    }
   ],
   "source": [
    "import numpy as np\n",
    "# combine features into a single list of tuples\n",
    "features = np.stack((outlook_encoded,temp_encoded,humid_encoded,wind_encoded),axis=1)\n",
    "print('features:',features)"
   ]
  },
  {
   "cell_type": "code",
   "execution_count": 6,
   "metadata": {},
   "outputs": [
    {
     "name": "stdout",
     "output_type": "stream",
     "text": [
      "better_neighbors: [0, 2, 1]\n",
      "predicted: No Play\n"
     ]
    }
   ],
   "source": [
    "import math\n",
    "from statistics import mode\n",
    "\n",
    "# KNN function which is discrete version\n",
    "def KNN_discrete_predict(train_set, label_set, predict_set, n_neighbors=2):\n",
    "    distance = []\n",
    "    better_neighbors = []\n",
    "    # calculate distance that setting 1 represents difference; Otherwise, setting 0 is represents identical\n",
    "    for eles in train_set:\n",
    "        distance.append(sum([1 if eles[i]!=predict_set[i] else 0 for i in range(len(predict_set))]))\n",
    "    # find the N nearest neighbors\n",
    "    for i in range(n_neighbors):\n",
    "        min_value = min(distance)\n",
    "        min_index = distance.index(min_value)\n",
    "        better_neighbors.append(min_index)\n",
    "        distance[min_index]= math.inf\n",
    "    print('better_neighbors:',better_neighbors)\n",
    "    return mode([label_set[idx] for idx in better_neighbors])\n",
    "\n",
    "# create KNN and predict the result\n",
    "predicted = KNN_discrete_predict(features, label_encoded, [-1,0,1,0], 3) \n",
    "\n",
    "# No play:0 Play:1\n",
    "if predicted==0:\n",
    "    print('predicted: No Play')\n",
    "else:\n",
    "    print('predicted: Play')"
   ]
  }
 ],
 "metadata": {
  "kernelspec": {
   "display_name": "Python 3",
   "language": "python",
   "name": "python3"
  },
  "language_info": {
   "codemirror_mode": {
    "name": "ipython",
    "version": 3
   },
   "file_extension": ".py",
   "mimetype": "text/x-python",
   "name": "python",
   "nbconvert_exporter": "python",
   "pygments_lexer": "ipython3",
   "version": "3.8.5"
  }
 },
 "nbformat": 4,
 "nbformat_minor": 4
}
